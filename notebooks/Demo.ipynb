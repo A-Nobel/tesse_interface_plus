{
 "cells": [
  {
   "attachments": {},
   "cell_type": "markdown",
   "metadata": {},
   "source": [
    "## 巡逻和生成物体Demo"
   ]
  },
  {
   "cell_type": "code",
   "execution_count": 1,
   "metadata": {},
   "outputs": [],
   "source": [
    "#-*-coding:utf-8-*-\n",
    "# Import and start env\n",
    "from tesse.env import Env\n",
    "from tesse.msgs import *\n",
    "import time\n",
    "import matplotlib.pyplot as plt\n",
    "import defusedxml.ElementTree as ET\n",
    "import numpy as np\n",
    "import socket\n",
    "import time\n",
    "import threading\n",
    "env = Env()\n",
    "host = \"0.0.0.0\"\n",
    "port = 19009\n",
    "lock = threading.Lock() \n",
    "done = True\n",
    "roomNum = 2\n",
    "bufsize = 4\n",
    "addr = (host,port)"
   ]
  },
  {
   "attachments": {},
   "cell_type": "markdown",
   "metadata": {},
   "source": [
    "#### 巡逻1号和2号房间"
   ]
  },
  {
   "cell_type": "code",
   "execution_count": 2,
   "metadata": {},
   "outputs": [
    {
     "name": "stdout",
     "output_type": "stream",
     "text": [
      "Done!\n",
      "go to2\n"
     ]
    },
    {
     "ename": "KeyboardInterrupt",
     "evalue": "",
     "output_type": "error",
     "traceback": [
      "\u001b[0;31m---------------------------------------------------------------------------\u001b[0m",
      "\u001b[0;31mKeyboardInterrupt\u001b[0m                         Traceback (most recent call last)",
      "Cell \u001b[0;32mIn[2], line 35\u001b[0m\n\u001b[1;32m     30\u001b[0m t\u001b[39m.\u001b[39mstart()\n\u001b[1;32m     31\u001b[0m \u001b[39mwhile\u001b[39;00m \u001b[39mTrue\u001b[39;00m:\n\u001b[1;32m     32\u001b[0m     \u001b[39m# if udpServer.recv(4).decode('utf-8') in [\"DONE\"]:\u001b[39;00m\n\u001b[1;32m     33\u001b[0m     \u001b[39m#     done = True\u001b[39;00m\n\u001b[1;32m     34\u001b[0m     \u001b[39m#     print(\"copy done\")\u001b[39;00m\n\u001b[0;32m---> 35\u001b[0m     \u001b[39mif\u001b[39;00m done:\n\u001b[1;32m     36\u001b[0m         \u001b[39mprint\u001b[39m(\u001b[39m\"\u001b[39m\u001b[39mDone!\u001b[39m\u001b[39m\"\u001b[39m)\n\u001b[1;32m     37\u001b[0m         lock\u001b[39m.\u001b[39macquire()\n",
      "\u001b[0;31mKeyboardInterrupt\u001b[0m: "
     ]
    }
   ],
   "source": [
    "BEGIN_TIME = time.time()\n",
    "room_obj_1 = [];room_slope_1 = 0.3;\n",
    "room_obj_2 = [];room_slope_2 = 3;\n",
    "\n",
    "udpServer = socket.socket(socket.AF_INET,socket.SOCK_DGRAM)\n",
    "udpServer.bind(addr)\n",
    "\n",
    "# conn, addr = udpServer.accept()\n",
    "# udpServer.setblocking(0)  \n",
    "def recv_msg(udp_socket):\n",
    "    global done\n",
    "    \"\"\"接收数据并显示\"\"\"\n",
    "    while True:\n",
    "        # 1. 接收数据\n",
    "        recv_msg = udp_socket.recvfrom(1024)\n",
    "        # conn, addr = udp_socket.accept()\n",
    "        # 2. 解码\n",
    "        recv_ip = recv_msg[1]\n",
    "        recv_msg = recv_msg[0].decode('utf-8')  #注意这里的编码如果是windows选择gbk,linux选择utf-8\n",
    "        # tag = conn.recv(4).decode('utf-8')\n",
    "        # 3. 显示接收到的数据\n",
    "        if str(recv_msg) in [\"DONE\"]:\n",
    "            lock.acquire()\n",
    "            done = True\n",
    "            lock.release()\n",
    "\n",
    "def spawn_Obj():\n",
    "    print(\"spawn\")\n",
    "t = threading.Thread(target=recv_msg, args=(udpServer,))\n",
    "t.start()\n",
    "while True:\n",
    "    # if udpServer.recv(4).decode('utf-8') in [\"DONE\"]:\n",
    "    #     done = True\n",
    "    #     print(\"copy done\")\n",
    "    if done:\n",
    "        print(\"Done!\")\n",
    "        lock.acquire()\n",
    "        done = False\n",
    "        lock.release()\n",
    "        if roomNum >2:\n",
    "            roomNum = 1\n",
    "        env.send(Patr(roomNum))\n",
    "        print(\"go to\"+str(roomNum))\n",
    "        roomNum+=1\n",
    "    # recv_msg = udpServer.recvfrom(1024)\n",
    "    # # conn, addr = udp_socket.accept()\n",
    "    # # 2. 解码\n",
    "    # recv_ip = recv_msg[1]\n",
    "    # recv_msg = recv_msg[0].decode('utf-8')  #注意这里的编码如果是windows选择gbk,linux选择utf-8\n",
    "    # # tag = conn.recv(4).decode('utf-8')\n",
    "    # # 3. 显示接收到的数据\n",
    "    # print(\">>>%s:\" % (str(recv_msg)))\n",
    "    # print(\"hh\")\n",
    "    # if str(recv_msg) in [\"DONE\"]:\n",
    "    #     lock.acquire()\n",
    "    #     done = True\n",
    "    #     lock.release()\n",
    "        "
   ]
  },
  {
   "cell_type": "code",
   "execution_count": 9,
   "metadata": {},
   "outputs": [],
   "source": []
  },
  {
   "attachments": {},
   "cell_type": "markdown",
   "metadata": {},
   "source": [
    "#### 生成物体 \n",
    "0 -> Mug \n",
    "\n",
    "1 -> Storage_cardboard_box_A\n",
    " \n",
    "2 -> Chair_office_leather"
   ]
  },
  {
   "cell_type": "code",
   "execution_count": 12,
   "metadata": {},
   "outputs": [
    {
     "data": {
      "text/plain": [
       "<tesse.msgs.DataResponse at 0x7f05233ebbb0>"
      ]
     },
     "execution_count": 12,
     "metadata": {},
     "output_type": "execute_result"
    }
   ],
   "source": [
    "# Remove all objects\n",
    "env.request(RemoveObjectsRequest())"
   ]
  },
  {
   "cell_type": "code",
   "execution_count": 11,
   "metadata": {},
   "outputs": [
    {
     "data": {
      "text/plain": [
       "<tesse.msgs.DataResponse at 0x7f0557beba60>"
      ]
     },
     "execution_count": 11,
     "metadata": {},
     "output_type": "execute_result"
    }
   ],
   "source": [
    "env.request(SpawnObjectRequest(1,\n",
    "                                        ObjectSpawnMethod.USER,\n",
    "                                        -10.2, \n",
    "                                        0.8, \n",
    "                                        17.8,\n",
    "                                        0,0,0,0))"
   ]
  },
  {
   "cell_type": "code",
   "execution_count": 10,
   "metadata": {},
   "outputs": [],
   "source": [
    "\n",
    "response = env.request(SpawnObjectRequest(0,\n",
    "                                ObjectSpawnMethod.USER,\n",
    "                                -10, \n",
    "                                1, \n",
    "                                14.5,\n",
    "                                0,0,0,0))\n",
    "\n",
    "response = env.request(SpawnObjectRequest(1,\n",
    "                                ObjectSpawnMethod.USER,\n",
    "                                -10, \n",
    "                                1, \n",
    "                                17.5,\n",
    "                                0,0,0,0))\n",
    "response = env.request(SpawnObjectRequest(2,\n",
    "                                ObjectSpawnMethod.USER,\n",
    "                                -10, \n",
    "                                1, \n",
    "                                12.5,\n",
    "                                0,0,0,0))\n"
   ]
  },
  {
   "cell_type": "code",
   "execution_count": 6,
   "metadata": {},
   "outputs": [],
   "source": [
    "# env.send(Dest(13.5,1,31.5))\n",
    "# -10  20,  -1.5 20, -1.5 11.5, -10 11.5  ,-14.5 11.5,-14.5 20  y 15.2\n",
    "env.send(Dest(-10,1,20))\n",
    "\n",
    "# #!/usr/bin/env python\n",
    "# import rospy\n",
    "# from std_msgs.msg import String\n",
    " \n",
    "# def callback(data):\n",
    "#     rospy.loginfo(rospy.get_caller_id() + \"I heard %s\", data.data)\n",
    "    \n",
    "\n",
    "# # In ROS, nodes are uniquely named. If two nodes with the same\n",
    "# # node are launched, the previous one is kicked off. The\n",
    "# # anonymous=True flag means that rospy will choose a unique\n",
    "# # name for our 'listener' node so that multiple listeners can\n",
    "# # run simultaneously.\n",
    "# rospy.init_node('listener', anonymous=True)\n",
    "\n",
    "# rospy.Subscriber(\"/incremental_dsg_builder_node/pgmo/object_info\", String, callback)\n",
    "\n",
    "# # spin() simply keeps python from exiting until this node is stopped\n",
    "# rospy.spin()\n",
    "# print(env.get_port(SpawnObjectRequest(2,\n",
    "#                                 ObjectSpawnMethod.USER,\n",
    "#                                 -10, \n",
    "#                                 1, \n",
    "#                                 17.5,\n",
    "#                                 0,0,0,0)))\n",
    "\n",
    "\n"
   ]
  },
  {
   "cell_type": "code",
   "execution_count": 13,
   "metadata": {},
   "outputs": [],
   "source": [
    "env.send(Dest(-1.5,1,20))"
   ]
  },
  {
   "cell_type": "code",
   "execution_count": 7,
   "metadata": {},
   "outputs": [],
   "source": [
    "env.send(Dest(-1.5,1,11.5))"
   ]
  },
  {
   "cell_type": "code",
   "execution_count": 18,
   "metadata": {},
   "outputs": [],
   "source": [
    "env.send(Dest(-10,1,11.5))"
   ]
  },
  {
   "cell_type": "code",
   "execution_count": 9,
   "metadata": {},
   "outputs": [],
   "source": [
    "env.send(Dest(-14.5,1,11.5))\n"
   ]
  },
  {
   "cell_type": "code",
   "execution_count": 10,
   "metadata": {},
   "outputs": [],
   "source": [
    "env.send(Dest(-14.5,1,20))"
   ]
  },
  {
   "attachments": {},
   "cell_type": "markdown",
   "metadata": {},
   "source": [
    "ssssss"
   ]
  },
  {
   "cell_type": "code",
   "execution_count": 9,
   "metadata": {},
   "outputs": [],
   "source": [
    "env.send(Dest(-4.5,1,31.5))"
   ]
  },
  {
   "cell_type": "code",
   "execution_count": 57,
   "metadata": {},
   "outputs": [],
   "source": [
    "env.send(Dest(-10.5,1,31.5))"
   ]
  },
  {
   "cell_type": "code",
   "execution_count": 58,
   "metadata": {},
   "outputs": [],
   "source": [
    "env.send(Dest(-11,1,35.5))"
   ]
  },
  {
   "cell_type": "code",
   "execution_count": 55,
   "metadata": {},
   "outputs": [],
   "source": [
    "env.send(Dest(-4.5,1,35.5))"
   ]
  },
  {
   "cell_type": "code",
   "execution_count": 37,
   "metadata": {},
   "outputs": [],
   "source": [
    "response = env.request(SpawnObjectRequest(0,\n",
    "                                ObjectSpawnMethod.USER,\n",
    "                                16, \n",
    "                                1, \n",
    "                                32,\n",
    "                                0,0,0,0))\n",
    "\n",
    "response = env.request(SpawnObjectRequest(0,\n",
    "                                ObjectSpawnMethod.USER,\n",
    "                                15, \n",
    "                                1, \n",
    "                                31,\n",
    "                                0,0,0,0))"
   ]
  },
  {
   "cell_type": "markdown",
   "metadata": {},
   "source": [
    "### Demo Transform Message"
   ]
  },
  {
   "cell_type": "code",
   "execution_count": null,
   "metadata": {},
   "outputs": [],
   "source": [
    "env.send(Transform(-1, 0, 0)) # left\n",
    "time.sleep(1)\n",
    "env.send(Transform(1, 0, 0)) # right\n",
    "time.sleep(1)\n",
    "env.send(Transform(0, -1, 0)) # back\n",
    "time.sleep(1)\n",
    "env.send(Transform(0, 1, 0)) # forward\n",
    "time.sleep(1)\n",
    "env.send(Transform(0, 0, 45)) # turn right\n",
    "time.sleep(1)\n",
    "env.send(Transform(0, 0, -45)) # turn left"
   ]
  },
  {
   "cell_type": "markdown",
   "metadata": {},
   "source": [
    "### Demo Force and Torque Message"
   ]
  },
  {
   "cell_type": "code",
   "execution_count": null,
   "metadata": {},
   "outputs": [],
   "source": [
    "env.send(AddForce(10, 0)) # Forward force\n",
    "time.sleep(1)\n",
    "env.send(AddForce(-10, 0)) # Backward force\n",
    "time.sleep(1)\n",
    "env.send(AddForce(0, 1)) # Torque right\n",
    "time.sleep(1)\n",
    "env.send(AddForce(0, -1)) # Torque left"
   ]
  },
  {
   "cell_type": "markdown",
   "metadata": {},
   "source": [
    "### Demo Reposition Message"
   ]
  },
  {
   "cell_type": "code",
   "execution_count": null,
   "metadata": {},
   "outputs": [],
   "source": [
    "env.send(Reposition(0, .5, 2, 0, 0, 0, 0))\n",
    "time.sleep(1)\n",
    "env.send(Reposition(2, 2, 0, 0, 0, 0, 0))"
   ]
  },
  {
   "cell_type": "markdown",
   "metadata": {},
   "source": [
    "### Demo getting images"
   ]
  },
  {
   "cell_type": "code",
   "execution_count": null,
   "metadata": {},
   "outputs": [],
   "source": [
    "def plot(response, title=None):\n",
    "    if len(response.images) == 0:\n",
    "        return\n",
    "    figsize = (len(response.images)*5, 5)\n",
    "    fig, axs = plt.subplots(1, len(response.images), figsize=figsize)\n",
    "    if len(response.images) > 1:\n",
    "        for ax, img in zip(axs, response.images):\n",
    "            ax.axis('off');\n",
    "            ax.imshow(img, cmap='gray');\n",
    "    else:\n",
    "        axs.axis('off');\n",
    "        axs.imshow(response.images[0], cmap='gray');\n",
    "        axs.set_title(title)"
   ]
  },
  {
   "cell_type": "code",
   "execution_count": null,
   "metadata": {},
   "outputs": [],
   "source": [
    "response = env.request(DataRequest())\n",
    "if response is not None:\n",
    "    print(response.metadata)\n",
    "    plot(response)"
   ]
  },
  {
   "cell_type": "code",
   "execution_count": null,
   "metadata": {},
   "outputs": [],
   "source": [
    "cameras=[\n",
    "    (Camera.RGB_LEFT, Compression.OFF, Channels.THREE),\n",
    "    (Camera.SEGMENTATION, Compression.OFF, Channels.THREE),\n",
    "]\n",
    "response = env.request(DataRequest(metadata=False, cameras=cameras))\n",
    "if response is not None:\n",
    "    plot(response)"
   ]
  },
  {
   "cell_type": "markdown",
   "metadata": {},
   "source": [
    "### Metadata request"
   ]
  },
  {
   "cell_type": "code",
   "execution_count": null,
   "metadata": {
    "scrolled": true
   },
   "outputs": [],
   "source": [
    "response = env.request(MetadataRequest())\n",
    "if response is not None:\n",
    "    print(response.metadata)"
   ]
  },
  {
   "cell_type": "markdown",
   "metadata": {},
   "source": [
    "### Camera request"
   ]
  },
  {
   "cell_type": "code",
   "execution_count": null,
   "metadata": {},
   "outputs": [],
   "source": [
    "response = env.request(CameraInformationRequest())\n",
    "if response is not None:\n",
    "    print(response.metadata)"
   ]
  },
  {
   "cell_type": "markdown",
   "metadata": {},
   "source": [
    "### Demonstrate some camera manipulation"
   ]
  },
  {
   "cell_type": "code",
   "execution_count": null,
   "metadata": {},
   "outputs": [],
   "source": [
    "# Reset 3rd person view\n",
    "_ = env.request(SetCameraParametersRequest(Camera.THIRD_PERSON, 768, 1024, 90, .05, 10))\n",
    "_ = env.request(SetCameraPositionRequest(Camera.THIRD_PERSON, 0, 1.319, -2.258))\n",
    "response = env.request(DataRequest(cameras=[(Camera.THIRD_PERSON, Compression.OFF, Channels.THREE)]))\n",
    "if response is not None:\n",
    "    plot(response, 'First Parameters')\n",
    "\n",
    "# Change the parameters and get the camera\n",
    "_ = env.request(SetCameraParametersRequest(Camera.THIRD_PERSON, 768, 1024, 55, .3, 50))\n",
    "response = env.request(DataRequest(cameras=[(Camera.THIRD_PERSON, Compression.OFF, Channels.THREE)]))\n",
    "if response is not None:\n",
    "    plot(response, 'Second Parameters')\n",
    "\n",
    "\n",
    "# Change the position and get the camera\n",
    "_ = env.request(SetCameraPositionRequest(Camera.THIRD_PERSON, 0, 0.5, -2.5))\n",
    "response = env.request(DataRequest(cameras=[(Camera.THIRD_PERSON, Compression.OFF, Channels.THREE)]))\n",
    "if response is not None:\n",
    "    plot(response, 'New Position')"
   ]
  },
  {
   "cell_type": "markdown",
   "metadata": {},
   "source": [
    "### Demo respawning"
   ]
  },
  {
   "cell_type": "code",
   "execution_count": null,
   "metadata": {},
   "outputs": [],
   "source": [
    "for i in range(3):\n",
    "    env.send(Respawn())\n",
    "    response = env.request(DataRequest(cameras=[(Camera.THIRD_PERSON, Compression.OFF, Channels.THREE)]))\n",
    "    if response is not None:\n",
    "        plot(response)\n",
    "    time.sleep(1)"
   ]
  },
  {
   "cell_type": "markdown",
   "metadata": {},
   "source": [
    "### Demo changing scenes\n",
    "\n",
    "*NOTE: loading scenes for the first time may take a long time*"
   ]
  },
  {
   "cell_type": "code",
   "execution_count": 9,
   "metadata": {},
   "outputs": [
    {
     "name": "stdout",
     "output_type": "stream",
     "text": [
      "<current_scene>\n",
      "  <index>7</index>\n",
      "  <name>CorridorScene_07_V2</name>\n",
      "</current_scene>\n",
      "\n"
     ]
    }
   ],
   "source": [
    "scene_index = 7\n",
    "\n",
    "response = env.request(SceneRequest(scene_index))\n",
    "if response is not None:\n",
    "    print(response.metadata)"
   ]
  },
  {
   "cell_type": "markdown",
   "metadata": {},
   "source": [
    "### Demo step mode\n",
    "\n",
    "This puts the game into step mode. The rate defines the update rate (Hz) for the game.\n",
    "\n",
    "Then, we step forward several times showing how Unit time progresses."
   ]
  },
  {
   "cell_type": "code",
   "execution_count": null,
   "metadata": {},
   "outputs": [],
   "source": [
    "rate = 1\n",
    "env.send(SetFrameRate(rate))"
   ]
  },
  {
   "cell_type": "code",
   "execution_count": null,
   "metadata": {},
   "outputs": [],
   "source": [
    "def unity_time(env):\n",
    "    response = env.request(MetadataRequest())\n",
    "    root = ET.fromstring(response.metadata)\n",
    "    return float(root.find('time').text)"
   ]
  },
  {
   "cell_type": "code",
   "execution_count": null,
   "metadata": {},
   "outputs": [],
   "source": [
    "unity_start = unity_time(env)\n",
    "\n",
    "for _ in range(10):\n",
    "    env.send(StepWithForce())\n",
    "    print(\"Elapsed time is \", unity_time(env) - unity_start, \" seconds.\")"
   ]
  },
  {
   "cell_type": "code",
   "execution_count": null,
   "metadata": {},
   "outputs": [],
   "source": [
    "# Exit step mode by setting rate to 0\n",
    "rate = 0\n",
    "env.send(SetFrameRate(rate))"
   ]
  },
  {
   "cell_type": "markdown",
   "metadata": {},
   "source": [
    "### Demo colliders\n",
    "\n",
    "Turn collisions off, then back on"
   ]
  },
  {
   "cell_type": "code",
   "execution_count": null,
   "metadata": {},
   "outputs": [],
   "source": [
    "env.send(ColliderRequest(enable=0)) # turn collisions off"
   ]
  },
  {
   "cell_type": "code",
   "execution_count": null,
   "metadata": {},
   "outputs": [],
   "source": [
    "env.send(ColliderRequest(enable=1)) # turn collisions on"
   ]
  },
  {
   "cell_type": "markdown",
   "metadata": {},
   "source": [
    "### Demo Manipulation of Objects\n",
    "This moves the agent then spawn 36 cubes around the agent"
   ]
  },
  {
   "cell_type": "code",
   "execution_count": 8,
   "metadata": {},
   "outputs": [],
   "source": [
    "x = -6\n",
    "y = .5\n",
    "z = 0 #8.5\n",
    "radius = 1.5\n",
    "orientation = [ 0.4619398, 0.1913417, 0.4619398, 0.7325378 ]\n",
    "orientation = [0, 0, 0, 1]\n",
    "env.send(Reposition(x, y, z, 0, 0, 0, 0))\n",
    "time.sleep(.2)\n",
    "\n",
    "for angle in range(0, 360, 10):\n",
    "    response = env.request(SpawnObjectRequest(int((angle % 40)/10),\n",
    "                                ObjectSpawnMethod.USER,\n",
    "                                x + radius*np.cos(angle*np.pi/180), \n",
    "                                y, \n",
    "                                z + radius*np.sin(angle*np.pi/180),\n",
    "                                *orientation)\n",
    "            )\n",
    "    #time.sleep(.2)"
   ]
  },
  {
   "cell_type": "code",
   "execution_count": 3,
   "metadata": {},
   "outputs": [],
   "source": [
    "for i in range(0, 20):\n",
    "    response = env.request(SpawnObjectRequest(int(i % 2),\n",
    "                                ObjectSpawnMethod.RANDOM))"
   ]
  },
  {
   "cell_type": "code",
   "execution_count": null,
   "metadata": {},
   "outputs": [],
   "source": [
    "print(env.request(ObjectsRequest()).metadata)"
   ]
  },
  {
   "cell_type": "code",
   "execution_count": null,
   "metadata": {},
   "outputs": [],
   "source": [
    "# Remove some objects by id\n",
    "env.request(RemoveObjectsRequest([2,4,6,8,10,12,14,16,18,20]))"
   ]
  },
  {
   "cell_type": "code",
   "execution_count": 6,
   "metadata": {},
   "outputs": [
    {
     "data": {
      "text/plain": [
       "<tesse.msgs.DataResponse at 0x1fd2f3917f0>"
      ]
     },
     "execution_count": 6,
     "metadata": {},
     "output_type": "execute_result"
    }
   ],
   "source": [
    "# Remove all objects\n",
    "env.request(RemoveObjectsRequest())"
   ]
  },
  {
   "cell_type": "markdown",
   "metadata": {},
   "source": [
    "### Demo Random Seed\n",
    "Sets the seed, then randomly respawns twice.\n",
    "\n",
    "Note that this may not be reproducible if a scene or some asset in the scene also uses the Unity Engine's random number generator."
   ]
  },
  {
   "cell_type": "code",
   "execution_count": null,
   "metadata": {},
   "outputs": [],
   "source": [
    "seed = 34512341\n",
    "\n",
    "for i in range(2):\n",
    "    print(\"Iteration \" + str(i) + \" results:\\n\")\n",
    "    env.send(SetRandomSeed(seed))\n",
    "    env.request(RemoveObjectsRequest())\n",
    "    time.sleep(.2)\n",
    "    env.send(Respawn())\n",
    "    time.sleep(1)\n",
    "    env.send(Respawn())\n",
    "    time.sleep(1)\n",
    "    # response = env.request(SpawnObjectRequest(ObjectType.CUBE,\n",
    "                                # ObjectSpawnMethod.RANDOM))\n",
    "    print(response.metadata)"
   ]
  }
 ],
 "metadata": {
  "kernelspec": {
   "display_name": "Python 3",
   "language": "python",
   "name": "python3"
  },
  "language_info": {
   "codemirror_mode": {
    "name": "ipython",
    "version": 3
   },
   "file_extension": ".py",
   "mimetype": "text/x-python",
   "name": "python",
   "nbconvert_exporter": "python",
   "pygments_lexer": "ipython3",
   "version": "3.8.15"
  }
 },
 "nbformat": 4,
 "nbformat_minor": 2
}
